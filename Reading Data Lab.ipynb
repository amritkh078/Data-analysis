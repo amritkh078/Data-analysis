{
 "cells": [
  {
   "cell_type": "code",
   "execution_count": 1,
   "metadata": {},
   "outputs": [],
   "source": [
    "# Imports\n",
    "import sqlite3 as sq3\n",
    "import pandas as pd"
   ]
  },
  {
   "cell_type": "code",
   "execution_count": 3,
   "metadata": {},
   "outputs": [
    {
     "name": "stdout",
     "output_type": "stream",
     "text": [
      "    type                  name     tbl_name  rootpage  \\\n",
      "0  table           allstarfull  allstarfull         2   \n",
      "1  index  ix_allstarfull_index  allstarfull         3   \n",
      "2  table               schools      schools        26   \n",
      "3  index      ix_schools_index      schools        31   \n",
      "4  table               batting      batting        99   \n",
      "5  index      ix_batting_index      batting       100   \n",
      "\n",
      "                                                 sql  \n",
      "0  CREATE TABLE \"allstarfull\" (\\n\"index\" INTEGER,...  \n",
      "1  CREATE INDEX \"ix_allstarfull_index\"ON \"allstar...  \n",
      "2  CREATE TABLE \"schools\" (\\n\"index\" INTEGER,\\n  ...  \n",
      "3  CREATE INDEX \"ix_schools_index\"ON \"schools\" (\"...  \n",
      "4  CREATE TABLE \"batting\" (\\n\"index\" INTEGER,\\n  ...  \n",
      "5  CREATE INDEX \"ix_batting_index\"ON \"batting\" (\"...  \n",
      "    playerID  num_games_played  avg_starting_position\n",
      "0  musiast01              24.0               6.357143\n",
      "1   mayswi01              24.0               8.000000\n",
      "2  aaronha01              24.0               8.470588\n"
     ]
    }
   ],
   "source": [
    "# create the path\n",
    "path ='baseball.db'\n",
    "\n",
    "# create the connection 'con' that is connected to database 'path'\n",
    "con = sq3.Connection(path)\n",
    "\n",
    "# Create a variable 'query', containing a SQL query which reads in all data from the table\n",
    "\n",
    "query = '''\n",
    "SELECT *\n",
    "    FROM allstarfull\n",
    "    ;\n",
    "'''\n",
    "\n",
    "# Create a variable 'observations' by using pandas' read_sql\n",
    "observations = pd.read_sql(query, con)\n",
    "# print(allstarfull_observations)\n",
    "\n",
    "# Create a variable 'tables' which reads in all data from the table sqlite_master\n",
    "all_tables = pd.read_sql('SELECT * FROM sqlite_master', con)\n",
    "print(all_tables)\n",
    "\n",
    "# Analyze allstarfull table to report the top 3 players interms of numbner of games played\n",
    "# if there are ties, choose players with lower starting positions first\n",
    "\n",
    "best_query = '''\n",
    "            SELECT\n",
    "            playerID,\n",
    "            sum(GP) AS num_games_played,\n",
    "            AVG(startingPos) AS avg_starting_position\n",
    "            FROM allstarfull\n",
    "            GROUP BY playerID\n",
    "            ORDER BY num_games_played DESC, avg_starting_position ASC\n",
    "            LIMIT 3\n",
    "'''\n",
    "best = pd.read_sql(best_query, con)\n",
    "\n",
    "print(best.head())"
   ]
  },
  {
   "cell_type": "code",
   "execution_count": null,
   "metadata": {},
   "outputs": [],
   "source": []
  }
 ],
 "metadata": {
  "kernelspec": {
   "display_name": "Python 3",
   "language": "python",
   "name": "python3"
  },
  "language_info": {
   "codemirror_mode": {
    "name": "ipython",
    "version": 3
   },
   "file_extension": ".py",
   "mimetype": "text/x-python",
   "name": "python",
   "nbconvert_exporter": "python",
   "pygments_lexer": "ipython3",
   "version": "3.8.3"
  }
 },
 "nbformat": 4,
 "nbformat_minor": 4
}
